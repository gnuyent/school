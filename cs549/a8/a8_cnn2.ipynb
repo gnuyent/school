{
 "cells": [
  {
   "cell_type": "markdown",
   "metadata": {},
   "source": [
    "# CS549 Machine Learning \n",
    "# Assignment 8: Convolutional Neural Network (Part 2) -- ConvNet for image classificaion\n",
    "\n",
    "**Author:** Yang Xu, Assistant Professor of Computer Science, San Diego State University\n",
    "\n",
    "**Total points: 10**\n",
    "\n",
    "In this assignment, you will implement a fully functioning ConvNet model using PyTorch. You will use the model to conduct image classification on the FashionMNST dataset."
   ]
  },
  {
   "cell_type": "code",
   "execution_count": 123,
   "metadata": {},
   "outputs": [],
   "source": [
    "import numpy as np\n",
    "import matplotlib.pyplot as plt\n",
    "from tqdm import tqdm\n",
    "\n",
    "# PyTorch is needed for this assignment\n",
    "# You can install it following the instructions on the official website: https://pytorch.org/get-started/locally/\n",
    "import torch\n",
    "import torch.nn as nn\n",
    "import torch.nn.functional as F\n",
    "torch.manual_seed(0)\n",
    "torch.use_deterministic_algorithms(True)\n",
    "\n",
    "from torch.utils.data import DataLoader\n",
    "from torchvision import datasets\n",
    "from torchvision.transforms import ToTensor\n",
    "\n",
    "%matplotlib inline\n",
    "np.random.seed(1)"
   ]
  },
  {
   "cell_type": "markdown",
   "metadata": {},
   "source": [
    "## Load data\n",
    "\n",
    "Load the FashionMNIST dataset provided by PyTorch. You can also change the `download` param to `False`, and copy the \"data\" folder used in the previous assignment to the current folder.\n",
    "\n",
    "See <https://pytorch.org/docs/stable/data.html#torch.utils.data.DataLoader> for more information."
   ]
  },
  {
   "cell_type": "code",
   "execution_count": 124,
   "metadata": {
    "collapsed": false,
    "pycharm": {
     "name": "#%%\n"
    }
   },
   "outputs": [],
   "source": [
    "training_data = datasets.FashionMNIST(\n",
    "    root=\"data\",\n",
    "    train=True, # True\n",
    "    download=True,\n",
    "    transform=ToTensor()\n",
    ")\n",
    "\n",
    "test_data = datasets.FashionMNIST(\n",
    "    root=\"data\",\n",
    "    train=False, # False\n",
    "    download=True,\n",
    "    transform=ToTensor()\n",
    ")\n",
    "\n",
    "batch_size = 64\n",
    "\n",
    "train_loader = DataLoader(training_data, batch_size=batch_size)\n",
    "test_loader = DataLoader(test_data, batch_size=batch_size)"
   ]
  },
  {
   "cell_type": "markdown",
   "metadata": {
    "collapsed": false
   },
   "source": [
    "## Examine data size\n",
    "\n",
    "Now, you can examine the size of the training/test data, which is important for determining some of the parameters of your model"
   ]
  },
  {
   "cell_type": "code",
   "execution_count": 125,
   "metadata": {
    "collapsed": false,
    "pycharm": {
     "name": "#%%\n"
    }
   },
   "outputs": [
    {
     "name": "stdout",
     "output_type": "stream",
     "text": [
      "X.shape:  torch.Size([64, 1, 28, 28])\n",
      "Y.shape:  torch.Size([64])\n"
     ]
    }
   ],
   "source": [
    "for i, (X, y) in enumerate(train_loader):\n",
    "    if i > 0:\n",
    "        break\n",
    "\n",
    "print('X.shape: ', X.shape)\n",
    "print('Y.shape: ', y.shape)"
   ]
  },
  {
   "cell_type": "markdown",
   "metadata": {
    "collapsed": false
   },
   "source": [
    "**Expected output**:\n",
    "\n",
    "X.shape:  torch.Size([64, 1, 28, 28])\n",
    "y.shape:  torch.Size([64])"
   ]
  },
  {
   "cell_type": "markdown",
   "metadata": {},
   "source": [
    "***\n",
    "\n",
    "## Task 1. Build the model\n",
    "**8 points**\n",
    "\n",
    "You will need to define your ConvNet model as a subclass of `torch.nn.Module`. Becuase we have already imported `torch.nn` as `nn`, we can specify the baseclass simply as `nn.Module`.\n",
    "\n",
    "You need to override two functions in defining the class, `__init__()` and `forward()`.\n",
    "- All the parameters, including the convolutional, pooling, and fully-connected layers are defined in `__init__()`. They are declared and initialized as members of the class, using the `self.` notation in Python. \n",
    "- The forward pass of the computational graph is defined in `forward()`. This function takes as input the training data, and call all operations (conv, pool, etc.) sequentially on the data. The output of a preceding operation is used as the input for the following operation. \n",
    "\n",
    "**Instructions:**\n",
    "\n",
    "- Define the model so that the architecture is as follows: <br>\n",
    "    Conv1 -> ReLU -> BatchNorm-> MaxPool1 -> \\\n",
    "    Conv2 -> ReLU -> BatchNorm-> MaxPool2 -> \\\n",
    "    FullyConnected -> Softmax.\n",
    "  <br> in which,\\\n",
    "    - `conv1` has filter size $f=3$, stride $s=1$, padding $p=0$, the number of filters $n_f=6$\n",
    "    - `conv2` has filter  $f=3$, stride $s=2$, padding $p=0$, the number of filters $n_f=12$;\n",
    "    - all max-pool layers use filter  $f=2$ (stride $s=2$ by default).\n",
    "  <br>\n",
    "- *Note* that the *RELU* activation function is implemented in `forward()` rather than `__init__()`, using `F.relu()`, in which `F` is short for `torch.nn.functional` (imported at the beginning).\n",
    "\n",
    "- The `in_features` of `self.fc` is the total number of output units after the `self.pool2` layer.\n",
    "- The `out_features` of `self.fc` should match the number of classes in FashionMNIST dataset, which is 10.\n",
    "- Use the following formula to compute the height and width of ouputs from conv layers.\n",
    "\\begin{equation}\\text{Output} = (\\lfloor\\frac{n+2p-f}{s}\\rfloor + 1)\\times(\\lfloor\\frac{n+2p-f}{s}\\rfloor + 1)\\end{equation}\n",
    "- For the output of model, need to use `nn.logSoftmax()`."
   ]
  },
  {
   "cell_type": "code",
   "execution_count": 126,
   "metadata": {},
   "outputs": [],
   "source": [
    "class ConvNetModel(nn.Module):\n",
    "    def __init__(self, debug=False):\n",
    "        super(ConvNetModel, self).__init__()\n",
    "        self.debug = debug\n",
    "        \n",
    "        # The first convolutional layer has in_channels=1, out_channels=6, kernel_size=3, with default stride=1 and padding=0\n",
    "        self.conv1 = nn.Conv2d(in_channels=1, out_channels=6, kernel_size=3, stride=1, padding=0)\n",
    "        self.bn1 = nn.BatchNorm2d(num_features=6)\n",
    "        # The first pooling layer is a maxpool with a square window of kernel_size=2 (default stride is same as kernel_size)\n",
    "        self.pool1 = nn.MaxPool2d(kernel_size=2, stride=2)\n",
    "        \n",
    "        ### START YOUR CODE ###\n",
    "        # The second convolutional layer\n",
    "        # NOTE: Its in_channels should match the out_channels of conv1\n",
    "        self.conv2 = nn.Conv2d(in_channels=6, out_channels=12, kernel_size=3)\n",
    "        self.bn2 = nn.BatchNorm2d(num_features=12)\n",
    "        # The second pooling layer is maxpool with a square window of kernel_size=2\n",
    "        self.pool2 = nn.MaxPool2d(kernel_size=2)\n",
    "        \n",
    "        # The fully-connected layer\n",
    "        self.flatten = nn.Flatten()\n",
    "        self.fc = nn.Linear(in_features=300, out_features=10) # Use nn.Linear, and you need to specify the correct in_features and out_features\n",
    "        \n",
    "        # Softmax layer\n",
    "        self.output = nn.LogSoftmax(dim=1) # Use nn.LogSoftmax(), specify the dim correctly\n",
    "        ### END YOUR CODE ###\n",
    "        \n",
    "    \n",
    "    def forward(self, x):\n",
    "        # Conv1 -> ReLU -> Batchnorm1-> Pool1\n",
    "        x = self.pool1(self.bn1(F.relu(self.conv1(x))))\n",
    "        if self.debug:\n",
    "            print('output shape of pool1:', x.shape)\n",
    "        \n",
    "        ### START YOUR CODE ###\n",
    "        # Conv2 -> ReLU -> Batchnorm2 -> Pool2\n",
    "        x = self.pool2(self.bn2(F.relu(self.conv2(x))))\n",
    "        if self.debug:\n",
    "            print('output shape of pool2:', x.shape)\n",
    "        \n",
    "        # Flatten the output from the last pooling layer\n",
    "        x = self.flatten(x)\n",
    "        \n",
    "        # Call the fully-connected layer, followed by a F.relu()\n",
    "        x = F.relu(self.fc(x))\n",
    "        \n",
    "        # Call softmax layer\n",
    "        x = self.output(x)\n",
    "        ### END YOUR CODE ###\n",
    "        \n",
    "        return x"
   ]
  },
  {
   "cell_type": "code",
   "execution_count": 127,
   "metadata": {},
   "outputs": [
    {
     "name": "stdout",
     "output_type": "stream",
     "text": [
      "output.size(): torch.Size([64, 10])\n"
     ]
    }
   ],
   "source": [
    "model = ConvNetModel(debug=False) # You can use debug mode to help\n",
    "\n",
    "# Do not change the test code below\n",
    "torch.manual_seed(0)\n",
    "input_data = torch.randn(64, 1, 28, 28)\n",
    "output = model(input_data)\n",
    "\n",
    "print('output.size():', output.size())"
   ]
  },
  {
   "cell_type": "markdown",
   "metadata": {},
   "source": [
    "### Expected output\n",
    "\n",
    "output.size(): torch.Size([64, 10])\n",
    "\n",
    "***\n",
    "\n",
    "## Task 2. Train and evaluate\n",
    "**2 points**\n",
    "\n",
    "Now you will use the functions you have implemented above to build a full model. Then you train the model on the sign language dataset.\n",
    "\n",
    "You can refer to the previous assignment or the official documents: See <https://pytorch.org/docs/stable/generated/torch.nn.CrossEntropyLoss.html> and <https://pytorch.org/docs/stable/optim.html> for more information."
   ]
  },
  {
   "cell_type": "code",
   "execution_count": 128,
   "metadata": {
    "collapsed": false,
    "pycharm": {
     "name": "#%%\n"
    }
   },
   "outputs": [],
   "source": [
    "def train_loop(dataloader, model, loss_fn, optimizer, verbose=True):\n",
    "    for i, (X, y) in enumerate(dataloader):\n",
    "        # Compute prediction and loss\n",
    "        ### START YOUR CODE ###\n",
    "        pred = model(X) # Get the prediction output from model\n",
    "        loss = loss_fn(pred, y) # compute loss by calling loss_fn()\n",
    "        ### END YOUR CODE ###\n",
    "\n",
    "        # Backpropagation\n",
    "        ### START YOUR CODE ###\n",
    "        optimizer.zero_grad() # zero_grad()\n",
    "        loss.backward() # backward()\n",
    "        optimizer.step() # step()\n",
    "        ### END YOUR CODE ###\n",
    "\n",
    "        if verbose and i % 100 == 0:\n",
    "            loss = loss.item()\n",
    "            current_step = i * len(X)\n",
    "            print(f\"loss: {loss:>7f}  [{current_step:>5d}/{len(dataloader.dataset):>5d}]\")"
   ]
  },
  {
   "cell_type": "code",
   "execution_count": 129,
   "metadata": {
    "collapsed": false,
    "pycharm": {
     "name": "#%%\n"
    }
   },
   "outputs": [],
   "source": [
    "@torch.no_grad()\n",
    "def test_loop(dataloader, model, loss_fn):\n",
    "    test_loss, correct = 0, 0\n",
    "\n",
    "    for X, y in dataloader:\n",
    "        ### START YOUR CODE ###\n",
    "        pred = model(X)\n",
    "        loss = loss_fn(pred, y)\n",
    "        test_loss += loss.item()\n",
    "        correct += torch.mean((torch.argmax(pred, dim=1) == y).float()) # Add the number of correct prediction in the current batch to `correct`\n",
    "        ### END YOUR CODE ###\n",
    "\n",
    "    test_loss /= len(dataloader)\n",
    "    ### START YOUR CODE ###\n",
    "    test_acc = correct / len(dataloader)\n",
    "    ### END YOUR CODE ###\n",
    "\n",
    "    print(f\"Test Error: \\n Accuracy: {(100*test_acc):>0.1f}%, Avg loss: {test_loss:>8f} \\n\")"
   ]
  },
  {
   "cell_type": "markdown",
   "metadata": {
    "collapsed": false
   },
   "source": [
    "Next, execute the following cell to start the training and testing loop.\n",
    "\n",
    "**Note** that a different loss function, `nn.NLLLoss()` should be used, instead of `nn.CrossEntropyLoss()`, because we already used softmax as the output layer in the model."
   ]
  },
  {
   "cell_type": "code",
   "execution_count": 130,
   "metadata": {
    "collapsed": false,
    "pycharm": {
     "name": "#%%\n"
    }
   },
   "outputs": [
    {
     "name": "stdout",
     "output_type": "stream",
     "text": [
      "Epoch 1\n",
      "-------------------------------\n",
      "Test Error: \n",
      " Accuracy: 84.5%, Avg loss: 0.423241 \n",
      "\n",
      "Epoch 2\n",
      "-------------------------------\n",
      "Test Error: \n",
      " Accuracy: 85.7%, Avg loss: 0.392452 \n",
      "\n",
      "Epoch 3\n",
      "-------------------------------\n",
      "Test Error: \n",
      " Accuracy: 86.1%, Avg loss: 0.381262 \n",
      "\n",
      "Epoch 4\n",
      "-------------------------------\n",
      "Test Error: \n",
      " Accuracy: 86.4%, Avg loss: 0.373380 \n",
      "\n",
      "Epoch 5\n",
      "-------------------------------\n",
      "Test Error: \n",
      " Accuracy: 86.5%, Avg loss: 0.367317 \n",
      "\n",
      "Epoch 6\n",
      "-------------------------------\n",
      "Test Error: \n",
      " Accuracy: 86.8%, Avg loss: 0.361736 \n",
      "\n",
      "Epoch 7\n",
      "-------------------------------\n",
      "Test Error: \n",
      " Accuracy: 86.9%, Avg loss: 0.358584 \n",
      "\n",
      "Epoch 8\n",
      "-------------------------------\n",
      "Test Error: \n",
      " Accuracy: 87.1%, Avg loss: 0.355630 \n",
      "\n",
      "Epoch 9\n",
      "-------------------------------\n",
      "Test Error: \n",
      " Accuracy: 87.2%, Avg loss: 0.353850 \n",
      "\n",
      "Epoch 10\n",
      "-------------------------------\n",
      "Test Error: \n",
      " Accuracy: 87.4%, Avg loss: 0.351774 \n",
      "\n",
      "Done!\n"
     ]
    }
   ],
   "source": [
    "model = ConvNetModel() # Reset the model\n",
    "learning_rate = 1e-3\n",
    "\n",
    "\n",
    "### START YOUR CODE ###\n",
    "loss_fn = nn.NLLLoss() # Use the correct loss function\n",
    "### END YOUR CODE ###\n",
    "optimizer = torch.optim.Adam(model.parameters(), lr=learning_rate)\n",
    "\n",
    "epochs = 10\n",
    "for t in range(epochs):\n",
    "    print(f\"Epoch {t+1}\\n-------------------------------\")\n",
    "    ### START YOUR CODE ###\n",
    "    train_loop(train_loader, model, loss_fn, optimizer, verbose=False) # Call train_loop(); use verbose=False, if you want to see less information\n",
    "    test_loop(test_loader, model, loss_fn) # Call test_loop()\n",
    "    ### END YOUR CODE ###\n",
    "\n",
    "print(\"Done!\")"
   ]
  },
  {
   "cell_type": "markdown",
   "metadata": {
    "pycharm": {
     "name": "#%% md\n"
    }
   },
   "source": [
    "### Expected output\n",
    "\n",
    "You should be able to reach above 85% test accuracy.\n",
    "\n",
    "***\n",
    "\n",
    "## Congratulations!\n",
    "Now you have successfully built a convolutional neural network model for image classification! \n",
    "Hopefully this experience of using PyTorch will help you with your final project."
   ]
  }
 ],
 "metadata": {
  "interpreter": {
   "hash": "25f78cd986e649f5a1fa57f7be9a497a8fd91952316ec3e436af56ac9acfc630"
  },
  "kernelspec": {
   "display_name": "Python 3.9.6 64-bit ('3.9.6': pyenv)",
   "name": "python3"
  },
  "language_info": {
   "codemirror_mode": {
    "name": "ipython",
    "version": 3
   },
   "file_extension": ".py",
   "mimetype": "text/x-python",
   "name": "python",
   "nbconvert_exporter": "python",
   "pygments_lexer": "ipython3",
   "version": "3.8.11"
  }
 },
 "nbformat": 4,
 "nbformat_minor": 4
}
