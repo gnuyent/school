{
 "cells": [
  {
   "cell_type": "markdown",
   "metadata": {
    "collapsed": true,
    "pycharm": {
     "name": "#%% md\n"
    }
   },
   "source": [
    "# CS549 Machine Learning\n",
    "# Assignment 7: Optimization of Deep Neural Networks\n",
    "\n",
    "**Author:** Yang Xu, Assistant Professor of Computer Science, San Diego State University\n",
    "\n",
    "**Total points: 15**\n",
    "\n",
    "In this assignment, you will implement a multiple layer feed-forward neural network for a multi-class classification task."
   ]
  },
  {
   "cell_type": "code",
   "execution_count": 19,
   "metadata": {
    "collapsed": false,
    "pycharm": {
     "name": "#%%\n"
    }
   },
   "outputs": [],
   "source": [
    "import torch\n",
    "torch.manual_seed(0)\n",
    "torch.use_deterministic_algorithms(True)\n",
    "\n",
    "from torch import nn\n",
    "from torch.utils.data import DataLoader\n",
    "from torchvision import datasets\n",
    "from torchvision.transforms import ToTensor"
   ]
  },
  {
   "cell_type": "markdown",
   "metadata": {
    "collapsed": false
   },
   "source": [
    "## Task 1: Build a deep neural network model\n",
    "**Points: 3**\n",
    "\n",
    "Implement the `NeuralNetModel1` class. The model takes a $28\\times 28$ grey-scale image as input, and pass it through a deep neural network.\n",
    "\n",
    "The network has 2 hidden layers and 1 output layers, whose sizes are: 512 -> 512 -> 10. That is, the number of output classes is 10. The activation function for each hidden layer is `ReLU`.\n",
    "\n",
    "The input image is first passed through a `nn.Flatten()` layer so that a 2D tensor becomes 1D."
   ]
  },
  {
   "cell_type": "code",
   "execution_count": 20,
   "metadata": {
    "collapsed": false,
    "pycharm": {
     "name": "#%%\n"
    }
   },
   "outputs": [],
   "source": [
    "class NeuralNetModel1(nn.Module):\n",
    "    def __init__(self):\n",
    "        super(NeuralNetModel1, self).__init__()\n",
    "        ### START YOUR CODE ###\n",
    "        self.flatten = nn.Flatten() # Use nn.Flatten()\n",
    "        self.linear_relu_stack = nn.Sequential(\n",
    "            nn.Linear(28 * 28, 512), # Input size is 28*28\n",
    "            nn.ReLU(), # ReLU\n",
    "            nn.Linear(512, 512), # 512 -> 512\n",
    "            nn.ReLU(), # ReLU\n",
    "            nn.Linear(512, 10), # 512 -> 10\n",
    "        )\n",
    "        ### END YOUR CODE ###\n",
    "\n",
    "    def forward(self, x):\n",
    "        ### START YOUR CODE ###\n",
    "        x = self.flatten(x) # Call self.flatten()\n",
    "        logits = self.linear_relu_stack(x) # Call self.linear_relu_stack()\n",
    "        ### END YOUR CODE ###\n",
    "\n",
    "        return logits"
   ]
  },
  {
   "cell_type": "code",
   "execution_count": 21,
   "metadata": {
    "collapsed": false,
    "pycharm": {
     "name": "#%%\n"
    }
   },
   "outputs": [
    {
     "name": "stdout",
     "output_type": "stream",
     "text": [
      "input size: torch.Size([5, 28, 28])\n",
      "output size: torch.Size([5, 10])\n"
     ]
    }
   ],
   "source": [
    "# Do not change the test code here\n",
    "sample_input = torch.randn(5, 28, 28)\n",
    "print('input size:', sample_input.size())\n",
    "\n",
    "model1 = NeuralNetModel1()\n",
    "with torch.no_grad():\n",
    "    output = model1(sample_input)\n",
    "print('output size:', output.size())"
   ]
  },
  {
   "cell_type": "markdown",
   "metadata": {
    "collapsed": false,
    "pycharm": {
     "name": "#%% md\n"
    }
   },
   "source": [
    "**Expected output**:\n",
    "\n",
    "input size: torch.Size([5, 28, 28])\\\n",
    "output size: torch.Size([5, 10])\n",
    "\n",
    "---\n",
    "\n",
    "## Task 2: Use dataloader\n",
    "**Points: 1**\n",
    "\n",
    "Download the FashionMNIST dataset provided by PyTorch to the folder \"data\", which takes some time for the first time execution.\n",
    "Use the `DataLoader` module to wrap the loaded training and test data. Specify the `batch_size` correctly for both training and test dataloader.\n",
    "\n",
    "See <https://pytorch.org/docs/stable/data.html#torch.utils.data.DataLoader> for more information."
   ]
  },
  {
   "cell_type": "code",
   "execution_count": 22,
   "metadata": {
    "collapsed": false,
    "pycharm": {
     "name": "#%%\n"
    }
   },
   "outputs": [],
   "source": [
    "training_data = datasets.FashionMNIST(\n",
    "    root=\"data\",\n",
    "    train=True, # True\n",
    "    download=True,\n",
    "    transform=ToTensor()\n",
    ")\n",
    "\n",
    "test_data = datasets.FashionMNIST(\n",
    "    root=\"data\",\n",
    "    train=False, # False\n",
    "    download=True,\n",
    "    transform=ToTensor()\n",
    ")\n",
    "\n",
    "batch_size = 64\n",
    "\n",
    "### START YOUR CODE ###\n",
    "train_loader = DataLoader(training_data, batch_size=batch_size) # Specify data source and batch size correctly\n",
    "test_loader = DataLoader(test_data, batch_size=batch_size)\n",
    "### END YOUR CODE ###"
   ]
  },
  {
   "cell_type": "code",
   "execution_count": 23,
   "metadata": {
    "collapsed": false,
    "pycharm": {
     "name": "#%%\n"
    }
   },
   "outputs": [
    {
     "name": "stdout",
     "output_type": "stream",
     "text": [
      "Training data size: 60000\n",
      "Testing data size: 10000\n",
      "X size: torch.Size([64, 1, 28, 28])\n",
      "y size: torch.Size([64])\n"
     ]
    }
   ],
   "source": [
    "# Do not change the test code here\n",
    "print('Training data size:', len(training_data))\n",
    "print('Testing data size:', len(test_data))\n",
    "\n",
    "count = 0\n",
    "for batch in train_loader:\n",
    "    X, y = batch\n",
    "    print('X size:', X.size())\n",
    "    print('y size:', y.size())\n",
    "    count += 1\n",
    "    if count > 0:\n",
    "        break"
   ]
  },
  {
   "cell_type": "markdown",
   "metadata": {
    "collapsed": false
   },
   "source": [
    "**Expected output**:\n",
    "\n",
    "Training data size: 60000\\\n",
    "Testing data size: 10000\\\n",
    "X size: torch.Size([64, 1, 28, 28])\\\n",
    "y size: torch.Size([64])"
   ]
  },
  {
   "cell_type": "markdown",
   "metadata": {
    "collapsed": false
   },
   "source": [
    "## Task 3: Define loss and optimizer\n",
    "**Points: 1**\n",
    "\n",
    "Use `nn.CrossEntropyLoss()` as the loss function, and use `torch.optim.SGD()` as the optimizer. Specify the arguments for `SGD()`, including the learning rate correctly.\n",
    "\n",
    "See <https://pytorch.org/docs/stable/generated/torch.nn.CrossEntropyLoss.html> and <https://pytorch.org/docs/stable/optim.html> for more information."
   ]
  },
  {
   "cell_type": "code",
   "execution_count": 24,
   "metadata": {
    "collapsed": false,
    "pycharm": {
     "name": "#%%\n"
    }
   },
   "outputs": [],
   "source": [
    "learning_rate = 1e-3\n",
    "\n",
    "### START YOUR CODE ###\n",
    "loss_fn = nn.CrossEntropyLoss()\n",
    "optimizer_sgd = torch.optim.SGD(params=model1.parameters(), lr=learning_rate)\n",
    "### END YOUR CODE ###"
   ]
  },
  {
   "cell_type": "code",
   "execution_count": 25,
   "metadata": {
    "collapsed": false,
    "pycharm": {
     "name": "#%%\n"
    }
   },
   "outputs": [
    {
     "name": "stdout",
     "output_type": "stream",
     "text": [
      "CrossEntropyLoss()\n",
      "<class 'torch.optim.sgd.SGD'>\n"
     ]
    }
   ],
   "source": [
    "# Do not change the test code here\n",
    "print(loss_fn)\n",
    "print(type(optimizer_sgd))"
   ]
  },
  {
   "cell_type": "markdown",
   "metadata": {
    "collapsed": false,
    "pycharm": {
     "name": "#%% md\n"
    }
   },
   "source": [
    "**Expected output**:\n",
    "\n",
    "CrossEntropyLoss()\n",
    "<class 'torch.optim.sgd.SGD'>\n",
    "\n",
    "---\n",
    "\n",
    "## Task 4: Implement train and test functions\n",
    "**Points: 6**\n",
    "\n",
    "Implement the code for training the model in `train()`. Implement the code for testing the model in `test()`. For the backpropagation step, you need to first zero out all gradients by calling `optimizer.zero_grad()` before carrying out `backward()` and `step()` to update parameters.\n",
    "\n",
    "In `test()`, you need to calculate the number of correct prediction in the current batch, and add it to the `correct` variable.\n",
    "Finally, you need to divide `correct` by the total number of test examples to obtain the test accuracy."
   ]
  },
  {
   "cell_type": "code",
   "execution_count": 26,
   "metadata": {
    "collapsed": false,
    "pycharm": {
     "name": "#%%\n"
    }
   },
   "outputs": [],
   "source": [
    "def train_loop(dataloader, model, loss_fn, optimizer, verbose=True):\n",
    "    for i, (X, y) in enumerate(dataloader):\n",
    "        # Compute prediction and loss\n",
    "        ### START YOUR CODE ###\n",
    "        pred = model(X) # Get the prediction output from model\n",
    "        loss = loss_fn(pred, y) # compute loss by calling loss_fn()\n",
    "        ### END YOUR CODE ###\n",
    "\n",
    "        # Backpropagation\n",
    "        ### START YOUR CODE ###\n",
    "        optimizer.zero_grad() # zero_grad()\n",
    "        loss.backward() # backward()\n",
    "        optimizer.step() # step()\n",
    "        ### END YOUR CODE ###\n",
    "\n",
    "        if verbose and i % 100 == 0:\n",
    "            loss = loss.item()\n",
    "            current_step = i * len(X)\n",
    "            print(f\"loss: {loss:>7f}  [{current_step:>5d}/{len(dataloader.dataset):>5d}]\")"
   ]
  },
  {
   "cell_type": "code",
   "execution_count": 27,
   "metadata": {
    "collapsed": false,
    "pycharm": {
     "name": "#%%\n"
    }
   },
   "outputs": [],
   "source": [
    "@torch.no_grad()\n",
    "def test_loop(dataloader, model, loss_fn):\n",
    "    test_loss, correct = 0, 0\n",
    "\n",
    "    for X, y in dataloader:\n",
    "        ### START YOUR CODE ###\n",
    "        pred = model(X) # Similar to how it is computed in train()\n",
    "        loss = loss_fn(pred, y)\n",
    "        test_loss += loss.item()\n",
    "        correct += torch.mean((torch.argmax(pred, dim=1) == y).float()) # Add the number of correct prediction in the current batch to `correct`\n",
    "        ### END YOUR CODE ###\n",
    "\n",
    "    test_loss /= len(dataloader)\n",
    "    ### START YOUR CODE ###\n",
    "    test_acc = correct / len(dataloader) # Use `correct` to compute accuracy\n",
    "    ### END YOUR CODE ###\n",
    "\n",
    "    print(f\"Test Error: \\n Accuracy: {(100*test_acc):>0.1f}%, Avg loss: {test_loss:>8f} \\n\")"
   ]
  },
  {
   "cell_type": "markdown",
   "metadata": {
    "collapsed": false,
    "pycharm": {
     "name": "#%% md\n"
    }
   },
   "source": [
    "Next, execute the following cell to start the training and testing loop. Make sure that the cell containing the loss function and optimizers has already been executed."
   ]
  },
  {
   "cell_type": "code",
   "execution_count": 28,
   "metadata": {
    "collapsed": false,
    "pycharm": {
     "name": "#%%\n"
    }
   },
   "outputs": [
    {
     "name": "stdout",
     "output_type": "stream",
     "text": [
      "Epoch 1\n",
      "-------------------------------\n",
      "Test Error: \n",
      " Accuracy: 40.0%, Avg loss: 2.171464 \n",
      "\n",
      "Epoch 2\n",
      "-------------------------------\n",
      "Test Error: \n",
      " Accuracy: 58.6%, Avg loss: 1.913630 \n",
      "\n",
      "Epoch 3\n",
      "-------------------------------\n",
      "Test Error: \n",
      " Accuracy: 61.6%, Avg loss: 1.542018 \n",
      "\n",
      "Epoch 4\n",
      "-------------------------------\n",
      "Test Error: \n",
      " Accuracy: 63.2%, Avg loss: 1.270237 \n",
      "\n",
      "Epoch 5\n",
      "-------------------------------\n",
      "Test Error: \n",
      " Accuracy: 64.6%, Avg loss: 1.102932 \n",
      "\n",
      "Epoch 6\n",
      "-------------------------------\n",
      "Test Error: \n",
      " Accuracy: 65.8%, Avg loss: 0.995855 \n",
      "\n",
      "Epoch 7\n",
      "-------------------------------\n",
      "Test Error: \n",
      " Accuracy: 67.2%, Avg loss: 0.922173 \n",
      "\n",
      "Epoch 8\n",
      "-------------------------------\n",
      "Test Error: \n",
      " Accuracy: 68.1%, Avg loss: 0.868536 \n",
      "\n",
      "Epoch 9\n",
      "-------------------------------\n",
      "Test Error: \n",
      " Accuracy: 69.2%, Avg loss: 0.827641 \n",
      "\n",
      "Epoch 10\n",
      "-------------------------------\n",
      "Test Error: \n",
      " Accuracy: 70.5%, Avg loss: 0.795204 \n",
      "\n",
      "Done!\n"
     ]
    }
   ],
   "source": [
    "model1 = NeuralNetModel1() # Reset the model\n",
    "### START YOUR CODE ###\n",
    "optimizer_sgd = torch.optim.SGD(params=model1.parameters(), lr=learning_rate) # Because the model1 is reset, the optimizer also needs redefined.\n",
    "### END YOUR CODE ###\n",
    "\n",
    "epochs = 10\n",
    "for t in range(epochs):\n",
    "    print(f\"Epoch {t+1}\\n-------------------------------\")\n",
    "    ### START YOUR CODE ###\n",
    "    train_loop(train_loader, model1, loss_fn, optimizer_sgd, verbose=False) # Use verbose=False, if you want to see less information\n",
    "    test_loop(test_loader, model1, loss_fn)\n",
    "    ### END YOUR CODE ###\n",
    "\n",
    "print(\"Done!\")"
   ]
  },
  {
   "cell_type": "markdown",
   "metadata": {
    "collapsed": false,
    "pycharm": {
     "name": "#%% md\n"
    }
   },
   "source": [
    "**Expected output**\n",
    "\n",
    "The test accuracy from the last epoch should be above 70%.\n",
    "\n",
    "---\n",
    "\n",
    "Next, train an ADAM optimizer. Note that the model needs be reset."
   ]
  },
  {
   "cell_type": "code",
   "execution_count": 29,
   "metadata": {
    "collapsed": false,
    "pycharm": {
     "name": "#%%\n"
    }
   },
   "outputs": [
    {
     "name": "stdout",
     "output_type": "stream",
     "text": [
      "Epoch 1\n",
      "-------------------------------\n",
      "Test Error: \n",
      " Accuracy: 84.4%, Avg loss: 0.422074 \n",
      "\n",
      "Epoch 2\n",
      "-------------------------------\n",
      "Test Error: \n",
      " Accuracy: 85.7%, Avg loss: 0.386433 \n",
      "\n",
      "Epoch 3\n",
      "-------------------------------\n",
      "Test Error: \n",
      " Accuracy: 85.9%, Avg loss: 0.383809 \n",
      "\n",
      "Epoch 4\n",
      "-------------------------------\n",
      "Test Error: \n",
      " Accuracy: 86.9%, Avg loss: 0.364839 \n",
      "\n",
      "Epoch 5\n",
      "-------------------------------\n",
      "Test Error: \n",
      " Accuracy: 87.5%, Avg loss: 0.342775 \n",
      "\n",
      "Epoch 6\n",
      "-------------------------------\n",
      "Test Error: \n",
      " Accuracy: 87.8%, Avg loss: 0.342688 \n",
      "\n",
      "Epoch 7\n",
      "-------------------------------\n",
      "Test Error: \n",
      " Accuracy: 88.3%, Avg loss: 0.342064 \n",
      "\n",
      "Epoch 8\n",
      "-------------------------------\n",
      "Test Error: \n",
      " Accuracy: 88.2%, Avg loss: 0.350175 \n",
      "\n",
      "Epoch 9\n",
      "-------------------------------\n",
      "Test Error: \n",
      " Accuracy: 87.7%, Avg loss: 0.367938 \n",
      "\n",
      "Epoch 10\n",
      "-------------------------------\n",
      "Test Error: \n",
      " Accuracy: 88.4%, Avg loss: 0.347578 \n",
      "\n",
      "Done!\n"
     ]
    }
   ],
   "source": [
    "model1 = NeuralNetModel1() # Reset the model\n",
    "\n",
    "### START YOUR CODE ###\n",
    "optimizer_adam = torch.optim.Adam(params=model1.parameters(), lr=learning_rate)\n",
    "### END YOUR CODE ###\n",
    "\n",
    "epochs = 10\n",
    "for t in range(epochs):\n",
    "    print(f\"Epoch {t+1}\\n-------------------------------\")\n",
    "    ### START YOUR CODE ###\n",
    "    train_loop(train_loader, model1, loss_fn, optimizer_adam, verbose=False) # Use verbose=False, if you want to see less information\n",
    "    test_loop(test_loader, model1, loss_fn)\n",
    "    ### END YOUR CODE ###\n",
    "\n",
    "print(\"Done!\")"
   ]
  },
  {
   "cell_type": "markdown",
   "metadata": {
    "collapsed": false
   },
   "source": [
    "**Expected output**:\n",
    "\n",
    "You can find that the training converges much faster using ADAM.\n",
    "\n",
    "---\n",
    "\n",
    "## Task 5: Add batchnorm and dropout\n",
    "**Points: 4**\n",
    "\n",
    "Use `torch.nn.BatchNorm1d()` and `nn.Dropout()` after the ReLU activation of each hidden layer. `Batchnorm1d()` takes the size of previous activation as input. `Dropout()` takes the probability of dropout as input.\n",
    "\n",
    "For more information, see <https://pytorch.org/docs/stable/generated/torch.nn.BatchNorm1d.html> and <https://pytorch.org/docs/stable/generated/torch.nn.Dropout.html>."
   ]
  },
  {
   "cell_type": "code",
   "execution_count": 30,
   "metadata": {
    "collapsed": false,
    "pycharm": {
     "name": "#%%\n"
    }
   },
   "outputs": [],
   "source": [
    "class NeuralNetModel2(nn.Module):\n",
    "    def __init__(self, dropout = 0.1): # Note the additional dropout parameter here\n",
    "        \"\"\"\n",
    "        :param dropout: float, the probability of dropout\n",
    "        \"\"\"\n",
    "        super(NeuralNetModel2, self).__init__()\n",
    "        ### START YOUR CODE ###\n",
    "        self.flatten = nn.Flatten()\n",
    "        self.linear_relu_stack = nn.Sequential(\n",
    "            nn.Linear(28 * 28, 512),\n",
    "            nn.ReLU(), # ReLU\n",
    "            nn.BatchNorm1d(512), # Batchnorm\n",
    "            nn.Dropout(p=dropout), # Dropout, use the `dropout` parameter\n",
    "\n",
    "            nn.Linear(512, 512),\n",
    "            nn.ReLU(), # ReLU\n",
    "            nn.BatchNorm1d(512), # Batchnorm\n",
    "            nn.Dropout(p=dropout), # Dropout, use the `dropout` parameter\n",
    "\n",
    "            nn.Linear(512, 10),\n",
    "        )\n",
    "        ### END YOUR CODE ###\n",
    "\n",
    "    def forward(self, x):\n",
    "        ### START YOUR CODE ###\n",
    "        x = self.flatten(x)\n",
    "        logits = self.linear_relu_stack(x)\n",
    "        ### END YOUR CODE ###\n",
    "\n",
    "        return logits"
   ]
  },
  {
   "cell_type": "markdown",
   "metadata": {
    "collapsed": false
   },
   "source": [
    "In the following cell, test with different `dropout` rates, and observe how that affects the test accuracy."
   ]
  },
  {
   "cell_type": "code",
   "execution_count": 36,
   "metadata": {
    "collapsed": false,
    "pycharm": {
     "name": "#%%\n"
    }
   },
   "outputs": [
    {
     "name": "stdout",
     "output_type": "stream",
     "text": [
      "Epoch 1\n",
      "-------------------------------\n",
      "Test Error: \n",
      " Accuracy: 81.1%, Avg loss: 0.520235 \n",
      "\n",
      "Epoch 2\n",
      "-------------------------------\n",
      "Test Error: \n",
      " Accuracy: 82.2%, Avg loss: 0.498800 \n",
      "\n",
      "Epoch 3\n",
      "-------------------------------\n",
      "Test Error: \n",
      " Accuracy: 82.9%, Avg loss: 0.483629 \n",
      "\n",
      "Epoch 4\n",
      "-------------------------------\n",
      "Test Error: \n",
      " Accuracy: 82.6%, Avg loss: 0.486645 \n",
      "\n",
      "Epoch 5\n",
      "-------------------------------\n",
      "Test Error: \n",
      " Accuracy: 83.7%, Avg loss: 0.464803 \n",
      "\n",
      "Epoch 6\n",
      "-------------------------------\n",
      "Test Error: \n",
      " Accuracy: 83.9%, Avg loss: 0.452396 \n",
      "\n",
      "Epoch 7\n",
      "-------------------------------\n",
      "Test Error: \n",
      " Accuracy: 83.4%, Avg loss: 0.459188 \n",
      "\n",
      "Epoch 8\n",
      "-------------------------------\n",
      "Test Error: \n",
      " Accuracy: 83.9%, Avg loss: 0.461147 \n",
      "\n",
      "Epoch 9\n",
      "-------------------------------\n",
      "Test Error: \n",
      " Accuracy: 84.5%, Avg loss: 0.437681 \n",
      "\n",
      "Epoch 10\n",
      "-------------------------------\n",
      "Test Error: \n",
      " Accuracy: 84.6%, Avg loss: 0.438506 \n",
      "\n",
      "Done!\n"
     ]
    }
   ],
   "source": [
    "### START YOUR CODE ###\n",
    "model2 = NeuralNetModel2(dropout=0.5) # Call NeuralNetModel2() with the dropout value you want to try\n",
    "optimizer = torch.optim.Adam(params=model2.parameters(), lr=learning_rate) # You may try Adam/SGD optimizer\n",
    "### END YOUR CODE ###\n",
    "\n",
    "epochs = 10\n",
    "for t in range(epochs):\n",
    "    print(f\"Epoch {t+1}\\n-------------------------------\")\n",
    "    ### START YOUR CODE ###\n",
    "    train_loop(train_loader, model2, loss_fn, optimizer, verbose=False) # Use verbose=False, if you want to see less information\n",
    "    test_loop(test_loader, model2, loss_fn)\n",
    "    ### END YOUR CODE ###\n",
    "\n",
    "print(\"Done!\")"
   ]
  },
  {
   "cell_type": "markdown",
   "metadata": {
    "collapsed": false,
    "pycharm": {
     "name": "#%% md\n"
    }
   },
   "source": [
    "**Expected output**\n",
    "\n",
    "In theory, you should see that the larger dropout rate you use, the lower test accuracy you will get, at the same epoch number.\n",
    "\n",
    "But the model trained with some dropout rate should generalize better to new data."
   ]
  }
 ],
 "metadata": {
  "kernelspec": {
   "display_name": "Python 3",
   "language": "python",
   "name": "python3"
  },
  "language_info": {
   "codemirror_mode": {
    "name": "ipython",
    "version": 3
   },
   "file_extension": ".py",
   "mimetype": "text/x-python",
   "name": "python",
   "nbconvert_exporter": "python",
   "pygments_lexer": "ipython3",
   "version": "3.8.11"
  }
 },
 "nbformat": 4,
 "nbformat_minor": 0
}
