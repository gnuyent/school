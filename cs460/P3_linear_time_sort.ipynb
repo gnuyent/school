{
 "cells": [
  {
   "cell_type": "markdown",
   "id": "71cec549-bfd3-4647-b153-637b45c7776d",
   "metadata": {},
   "source": [
    "# CS460 Algorithms and Their Analysis \n",
    "## Programming Assignment 3: Linear time sorting algorithms\n",
    "\n",
    "**Author:** Yang Xu, Assistant Professor of Computer Science, San Diego State University\n",
    "\n",
    "**Total points: 12 + 4(bonus)**"
   ]
  },
  {
   "cell_type": "code",
   "execution_count": 267,
   "id": "9c5c0e9a-90a5-47e0-8be6-5bb1d6338cf5",
   "metadata": {},
   "outputs": [],
   "source": [
    "import numpy as np\n",
    "import timeit"
   ]
  },
  {
   "cell_type": "markdown",
   "id": "6484ade1",
   "metadata": {},
   "source": [
    "## Task 1: Implement counting sort\n",
    "**Points: 3**\n",
    "\n",
    "Implement `counting_sort()` by following the pseudo-code in lecture slides/textbook.\n",
    "\n",
    "*Hint*: Since the index of Python array starts with 0, when using `C[i]` to copy element to the final array, the index needs be adjusted."
   ]
  },
  {
   "cell_type": "code",
   "execution_count": 268,
   "metadata": {
    "collapsed": false,
    "pycharm": {
     "name": "#%%\n"
    }
   },
   "outputs": [],
   "source": [
    "def counting_sort(arr, k):\n",
    "    \"\"\"\n",
    "    :param arr: list of int, the array to be sorted\n",
    "    :param k: each integer number in array is within the range [0,k]\n",
    "    :return: arr sorted\n",
    "    \"\"\"\n",
    "    # Initialize the helper array C\n",
    "    ### START YOUR CODE ###\n",
    "    C = [0] * (k + 1) # Initialize C with the correct length\n",
    "    ### END YOUR CODE ###\n",
    "\n",
    "    # Fill in C with correct values, so that C[i] holds the number of elements in arr that are equal to i\n",
    "    ### START YOUR CODE ###\n",
    "    for j in arr:\n",
    "        C[j] += 1\n",
    "    ### END YOUR CODE ###\n",
    "\n",
    "    # Fill in C with correct values, so that now C[i] holds the number of elements in arr that are less than or equal to i\n",
    "    ### START YOUR CODE ###\n",
    "    for i in range(1, k + 1):\n",
    "        C[i] = C[i] + C[i-1]\n",
    "    ### END YOUR CODE ###\n",
    "\n",
    "    # Initialize the final sorted array\n",
    "    sorted_arr = [0] * len(arr)\n",
    "\n",
    "    # Copy each element in arr to its correct position in sorted_arr\n",
    "    ### START YOUR CODE ###\n",
    "    for i in reversed(arr): # Specify the correct loop range. Hint: use reversed(), or range() with a negative step\n",
    "        # Hint: when copying to sorted_arr, the index needs be adjusted\n",
    "        sorted_arr[C[i] - 1] = i\n",
    "        C[i] -= 1\n",
    "    ### END YOUR CODE ###\n",
    "\n",
    "    return sorted_arr"
   ]
  },
  {
   "cell_type": "code",
   "execution_count": 269,
   "metadata": {
    "collapsed": false,
    "pycharm": {
     "name": "#%%\n"
    }
   },
   "outputs": [
    {
     "name": "stdout",
     "output_type": "stream",
     "text": [
      "arr sorted: [0, 0, 2, 2, 3, 3, 3, 5]\n"
     ]
    }
   ],
   "source": [
    "# Do NOT change the test code here.\n",
    "arr = [2,5,3,0,2,3,0,3]\n",
    "arr_sorted = counting_sort(arr, k=max(arr))\n",
    "\n",
    "print('arr sorted:', arr_sorted)"
   ]
  },
  {
   "cell_type": "markdown",
   "metadata": {
    "collapsed": false
   },
   "source": [
    "**Expected output**:\n",
    "\n",
    "arr sorted: [0, 0, 2, 2, 3, 3, 3, 5]\n",
    "\n",
    "---\n",
    "Next, you can compare your implementation of counting sort with the Python built-in sorted().\n"
   ]
  },
  {
   "cell_type": "code",
   "execution_count": 270,
   "metadata": {
    "collapsed": false,
    "pycharm": {
     "name": "#%%\n"
    }
   },
   "outputs": [
    {
     "name": "stdout",
     "output_type": "stream",
     "text": [
      "counting_sort(): 0.08007012500092969\n",
      "Built-in sorted(): 0.013420833998679882\n"
     ]
    }
   ],
   "source": [
    "def test1():\n",
    "    np.random.seed(1)\n",
    "    arr = np.random.randint(1000, size=100).tolist()\n",
    "    counting_sort(arr, k=max(arr))\n",
    "\n",
    "def test2():\n",
    "    np.random.seed(1)\n",
    "    arr = np.random.randint(1000, size=100).tolist()\n",
    "    sorted(arr)\n",
    "\n",
    "print('counting_sort():', timeit.timeit('test1()', globals=globals(), number=1000))\n",
    "print('Built-in sorted():', timeit.timeit('test2()', globals=globals(), number=1000))"
   ]
  },
  {
   "cell_type": "markdown",
   "metadata": {
    "collapsed": false
   },
   "source": [
    "---\n",
    "## Task 2: Implement an enhanced counting sort\n",
    "**Points: 3**\n",
    "\n",
    "Implement an enhanced version of counting sort, which can allow negative integers in the input array, and the length of array `C` is automatically calculated, so that no `k` parameter is needed.\n",
    "\n",
    "*Hint*: Use the maximum and minimum elements in the input array to decide the size of `C`. Because the minimum is not necessarily 0, the count of integer `i` is no longer stored in `C[i]`, but in a new index."
   ]
  },
  {
   "cell_type": "code",
   "execution_count": 271,
   "metadata": {
    "collapsed": false,
    "pycharm": {
     "name": "#%%\n"
    }
   },
   "outputs": [],
   "source": [
    "def counting_sort_enhanced(arr):\n",
    "    \"\"\"\n",
    "    :param arr: list of int, the array to be sorted\n",
    "    :return: arr sorted\n",
    "    \"\"\"\n",
    "    ### START YOUR CODE ###\n",
    "    max_num = max(arr)\n",
    "    min_num = min(arr)\n",
    "    C = [0] * (max_num - min_num + 1) # Initialize C with the correct length calculated from max_num and min_num\n",
    "    ### END YOUR CODE ###\n",
    "\n",
    "    # Fill in C with correct values. Hint: should use an index different from C[i]\n",
    "    ### START YOUR CODE ###\n",
    "    for j in arr:\n",
    "        C[j - min_num] += 1\n",
    "    ### END YOUR CODE ###\n",
    "\n",
    "    # Update C with correct values\n",
    "    ### START YOUR CODE ###\n",
    "    for i in range(1, len(C)):\n",
    "        C[i] = C[i] + C[i-1]\n",
    "    ### END YOUR CODE ###\n",
    "\n",
    "    # Initialize the final sorted array\n",
    "    sorted_arr = [0] * len(arr)\n",
    "\n",
    "    # Copy each element in arr to its correct position in sorted_arr\n",
    "    # Hint: also use a different index for elements in C\n",
    "    ### START YOUR CODE ###\n",
    "    for i in reversed(arr):\n",
    "        # Hint: when copying to sorted_arr, the index needs be adjusted\n",
    "        sorted_arr[C[i - min_num] - 1] = i\n",
    "        C[i - min_num] -= 1\n",
    "    ### END YOUR CODE ###\n",
    "\n",
    "    return sorted_arr"
   ]
  },
  {
   "cell_type": "code",
   "execution_count": 272,
   "metadata": {
    "collapsed": false,
    "pycharm": {
     "name": "#%%\n"
    }
   },
   "outputs": [
    {
     "name": "stdout",
     "output_type": "stream",
     "text": [
      "arr sorted: [-4, -3, -2, 0, 0, 0, 2, 2, 3, 3, 3, 5]\n"
     ]
    }
   ],
   "source": [
    "# Do NOT change the test code here.\n",
    "arr = [2,5,3,0,2,3,0,3] + [-2, -3, 0, -4]\n",
    "arr_sorted = counting_sort_enhanced(arr)\n",
    "\n",
    "print('arr sorted:', arr_sorted)"
   ]
  },
  {
   "cell_type": "markdown",
   "metadata": {
    "collapsed": false
   },
   "source": [
    "**Expected output**:\n",
    "\n",
    "arr sorted: [-4, -3, -2, 0, 0, 0, 2, 2, 3, 3, 3, 5]\n",
    "\n",
    "---\n",
    "\n",
    "## Task 3 (Bonus): Apply counting sort to string\n",
    "**Points: 1** (Bonus)\n",
    "\n",
    "By converting each character in a string to its integer representation, you can apply counting sort on it and as a result, obtain an output string in which all the same characters get aggregated.\n",
    "\n",
    "*Hint*: Use the built-in `ord()` function to convert character to integer, and use `chr()` for the other way around."
   ]
  },
  {
   "cell_type": "code",
   "execution_count": 273,
   "metadata": {
    "collapsed": false,
    "pycharm": {
     "name": "#%%\n"
    }
   },
   "outputs": [
    {
     "name": "stdout",
     "output_type": "stream",
     "text": [
      "input_integers: [104, 101, 108, 108, 111, 44, 119, 111, 114, 108, 100, 33]\n",
      "sorted_integers: [33, 44, 100, 101, 104, 108, 108, 108, 111, 111, 114, 119]\n",
      "sorted_string: !,dehllloorw\n"
     ]
    }
   ],
   "source": [
    "input_string = 'hello,world!'\n",
    "### START YOUR CODE ###\n",
    "input_integers = [ord(x) for x in input_string]\n",
    "### END YOUR CODE ###\n",
    "print('input_integers:', input_integers)\n",
    "\n",
    "### START YOUR CODE ###\n",
    "sorted_integers = counting_sort_enhanced(input_integers) # Apply counting sort\n",
    "### END YOUR CODE ###\n",
    "print('sorted_integers:', sorted_integers)\n",
    "\n",
    "### START YOUR CODE ###\n",
    "sorted_string = \"\".join([chr(x) for x in sorted_integers]) # Use chr() and the join() function of string\n",
    "### END YOUR CODE ###\n",
    "print('sorted_string:', sorted_string)"
   ]
  },
  {
   "cell_type": "markdown",
   "id": "721e45e4-da1d-4b3f-abee-821a5f4142ca",
   "metadata": {},
   "source": [
    "**Expected output**:\n",
    "\n",
    "input_integers: [104, 101, 108, 108, 111, 44, 119, 111, 114, 108, 100, 33]\\\n",
    "sorted_integers: [33, 44, 100, 101, 104, 108, 108, 108, 111, 111, 114, 119]\\\n",
    "sorted_string: !,dehllloorw\n",
    "\n",
    "---\n",
    "\n",
    "## Task 4: Implement the bucket sort\n",
    "**Points: 3**\n",
    "\n",
    "Implement `bucket_sort()` by following the pseudo-code in lecture slides/textbook.\n",
    "\n",
    "Note the function takes an argument `num_buckets` as input, which indicates that number of buckets to be used. If it is `None`, then `len(arr)` will be used as the default number of buckets.\n",
    "\n",
    "*Hint*: You can use `int()` in Python to convert a float number to its floor integer. You can use a nested for loop or the `itertools` package to concatenate buckets."
   ]
  },
  {
   "cell_type": "code",
   "execution_count": 274,
   "id": "168511d2-3c0d-4743-ae61-d8047a2d928d",
   "metadata": {},
   "outputs": [],
   "source": [
    "def bucket_sort(arr, num_buckets = None):\n",
    "    \"\"\"\n",
    "    Params:\n",
    "        arr: list\n",
    "        num_buckets: int\n",
    "    Return:\n",
    "        arr_sorted: list, the sorted arr\n",
    "    \"\"\"\n",
    "    if num_buckets is None:\n",
    "        num_buckets = len(arr)\n",
    "\n",
    "    # Initialize the \"buckets\", i.e., a list of lists, which plays similar role as the B array in the textbook pseudo code\n",
    "    ### START YOUR CODE ###\n",
    "    buckets = None\n",
    "    ### END YOUR CODE ###\n",
    "\n",
    "    ### START YOUR CODE ###\n",
    "    # Place each element in arr to the correct bucket. Hint: you can use int() to calculate the floor\n",
    "    for el in arr:\n",
    "        pass\n",
    "    ### END YOUR CODE ###\n",
    "\n",
    "    ### START YOUR CODE ###\n",
    "    # Concatenate all buckets together in order. Hint: You can use a nested for loop or the `itertools` package to concatenate buckets.\n",
    "    sorted_arr = None\n",
    "    ### END YOUR CODE ###\n",
    "\n",
    "    return sorted_arr"
   ]
  },
  {
   "cell_type": "code",
   "execution_count": 275,
   "id": "b028c543-36d9-4a0d-948d-c0829a348229",
   "metadata": {},
   "outputs": [
    {
     "name": "stdout",
     "output_type": "stream",
     "text": [
      "arr sorted: None\n"
     ]
    }
   ],
   "source": [
    "# Do NOT change the test code here.\n",
    "arr = [.78, .17, .39, .26, .72, .94, .21, .12, .23, .68]\n",
    "arr_sorted = bucket_sort(arr)\n",
    "\n",
    "print('arr sorted:', arr_sorted)"
   ]
  },
  {
   "cell_type": "markdown",
   "id": "38dc5570",
   "metadata": {},
   "source": [
    "**Expected output**\n",
    "\n",
    "arr sorted: [0.12, 0.17, 0.21, 0.23, 0.26, 0.39, 0.68, 0.72, 0.78, 0.94]\n",
    "\n",
    "---\n",
    "Next, you can compare your implementation of bucket sort with the Python built-in `sorted()`.\n",
    "\n",
    "Play around different `num_buckets` values in `test1()`. You can set it to `None` to see how that influences the running time."
   ]
  },
  {
   "cell_type": "code",
   "execution_count": 276,
   "id": "da0f1e26",
   "metadata": {
    "pycharm": {
     "name": "#%%\n"
    }
   },
   "outputs": [
    {
     "name": "stdout",
     "output_type": "stream",
     "text": [
      "bucket_sort(): 0.02193437500136497\n",
      "Built-in sorted(): 0.06936308399963309\n"
     ]
    }
   ],
   "source": [
    "def test1():\n",
    "    np.random.seed(1)\n",
    "    arr = np.random.rand(1000).tolist()\n",
    "    bucket_sort(arr, num_buckets=10)\n",
    "\n",
    "def test2():\n",
    "    np.random.seed(1)\n",
    "    arr = np.random.rand(1000).tolist()\n",
    "    sorted(arr)\n",
    "\n",
    "print('bucket_sort():', timeit.timeit('test1()', globals=globals(), number=1000))\n",
    "print('Built-in sorted():', timeit.timeit('test2()', globals=globals(), number=1000))"
   ]
  },
  {
   "cell_type": "markdown",
   "metadata": {
    "collapsed": false
   },
   "source": [
    "---\n",
    "\n",
    "## Task 5: Implement an enhanced bucket sort\n",
    "**Points: 3**\n",
    "\n",
    "Implement an enhanced version of bucket sort, which supports the sorting of numbers within arbitrary ranges. The number of buckets is decided by the difference between the maximum and minimum values of the input.\n",
    "\n",
    "*Hint*: The number of buckets should be $\\lceil max - min\\rceil$. Use the difference between a number and $min$ to decide which bucket to insert it."
   ]
  },
  {
   "cell_type": "code",
   "execution_count": 277,
   "metadata": {
    "collapsed": false,
    "pycharm": {
     "name": "#%%\n"
    }
   },
   "outputs": [],
   "source": [
    "def bucket_sort_enhanced(arr):\n",
    "    \"\"\"\n",
    "    :param arr: list, input array\n",
    "    :return: list, the sorted array\n",
    "    \"\"\"\n",
    "    ### START YOUR CODE ###\n",
    "    min_value = None\n",
    "    max_value = None\n",
    "    num_buckets = None # Calculate the number of buckets\n",
    "    buckets = None # Initialize buckets\n",
    "    ### END YOUR CODE ###\n",
    "\n",
    "    ### START YOUR CODE ###\n",
    "    # Place each element in arr to the correct bucket.\n",
    "    for i in range(len(arr)):\n",
    "        pass\n",
    "    ### END YOUR CODE ###\n",
    "\n",
    "    ### START YOUR CODE ###\n",
    "    # Concatenate all buckets together in order. Hint: You can use a nested for loop or the `itertools` package to concatenate buckets.\n",
    "    sorted_arr = None\n",
    "    ### END YOUR CODE ###\n",
    "\n",
    "    return sorted_arr"
   ]
  },
  {
   "cell_type": "code",
   "execution_count": 278,
   "metadata": {
    "collapsed": false,
    "pycharm": {
     "name": "#%%\n"
    }
   },
   "outputs": [
    {
     "name": "stdout",
     "output_type": "stream",
     "text": [
      "arr: [ -1.66   4.41 -10.    -3.95  -7.06  -8.15  -6.27  -3.09  -2.06   0.78]\n",
      "arr sorted: None\n"
     ]
    }
   ],
   "source": [
    "# Do NOT change the test code here.\n",
    "np.random.seed(1)\n",
    "arr = (np.random.rand(10) * 20 - 10).tolist()\n",
    "arr_sorted = bucket_sort_enhanced(arr)\n",
    "\n",
    "np.set_printoptions(precision=2)\n",
    "print('arr:', np.array(arr))\n",
    "print('arr sorted:', np.array(arr_sorted))"
   ]
  },
  {
   "cell_type": "markdown",
   "metadata": {
    "collapsed": false,
    "pycharm": {
     "name": "#%% md\n"
    }
   },
   "source": [
    "**Expected output**\n",
    "\n",
    "arr: [ -1.66   4.41 -10.    -3.95  -7.06  -8.15  -6.27  -3.09  -2.06   0.78]\\\n",
    "arr sorted: [-10.    -8.15  -7.06  -6.27  -3.95  -3.09  -2.06  -1.66   0.78   4.41]\n",
    "\n",
    "---\n",
    "\n",
    "## Task 6 (Bonus): Implement radix sort\n",
    "**Points: 3** (Bonus)\n",
    "\n",
    "Implement radix sort with following `radix_sort()` function.\n",
    "\n",
    "*Hints*: A temporary object `tmp_list` is used to organize all numbers that share the same digits at a certain position. For example, in the input array `[531, 130, 320, 181]`,`320` and `130` both have digit `0` at position 1, so they should be appended to `tmp_list[0]`. `531` and `181` both have digit `1` at position 1, so they should be appended to `tmp_list[1]`, and so forth. Then by taking out elements from `tmp_list` in order, the resulting intermediate output should be `[320, 130, 531, 181]`.\n",
    "\n",
    "All you need to do next is to repeat this procedure for position $k=2,3$."
   ]
  },
  {
   "cell_type": "code",
   "execution_count": 279,
   "metadata": {
    "collapsed": false,
    "pycharm": {
     "name": "#%%\n"
    }
   },
   "outputs": [],
   "source": [
    "def radix_sort(arr, print_at_iters=[]):\n",
    "    # For printing\n",
    "    if isinstance(print_at_iters, int):\n",
    "        assert print_at_iters >= 0\n",
    "        print_at_iter = [print_at_iters]\n",
    "\n",
    "    ### START YOUR CODE ###\n",
    "    digit_position = None # position starts from 1\n",
    "    max_num = None # maximum number in input array\n",
    "    sorted_arr = None # make a copy of arr\n",
    "    ### END YOUR CODE ###\n",
    "\n",
    "    iteration = 0\n",
    "    if iteration in print_at_iters:\n",
    "        print(f'iteration {iteration}: {sorted_arr}')\n",
    "\n",
    "    while digit_position <= max_num:\n",
    "        ### START YOUR CODE ###\n",
    "        tmp_list = None # Hint: initialize to a list of 10 empty lists, because there are 10 possible digits\n",
    "        ### END YOUR CODE ###\n",
    "\n",
    "        ### START YOUR CODE ###\n",
    "        for num in None: # Specify the correct range of loop. Hint: Use arr or sorted_arr?\n",
    "            digit_number = None # Find the digit at current position. Hint: Use divide and modular\n",
    "            tmp_list[digit_number].append(num)\n",
    "        ### END YOUR CODE ###\n",
    "\n",
    "        ### START YOUR CODE ###\n",
    "        # Take the elements from tmp_list out and copy to sorted_arr, in the correct order.\n",
    "        i = 0\n",
    "        for numbers in None: # Specify the range\n",
    "            for num in None: # Specify the range\n",
    "                sorted_arr[i] = None\n",
    "                i += 1\n",
    "        ### END YOUR CODE ###\n",
    "\n",
    "        iteration += 1\n",
    "        if iteration in print_at_iters:\n",
    "            print(f'iteration {iteration}: {sorted_arr}')\n",
    "\n",
    "        ### START YOUR CODE ###\n",
    "        # Hint: Increase digit_position from 1 to 10, 10 to 100, and so on...\n",
    "        digit_position = None\n",
    "        ### END YOUR CODE ###\n",
    "\n",
    "    return sorted_arr"
   ]
  },
  {
   "cell_type": "code",
   "execution_count": 280,
   "metadata": {
    "collapsed": false,
    "pycharm": {
     "name": "#%%\n"
    }
   },
   "outputs": [
    {
     "ename": "TypeError",
     "evalue": "'<=' not supported between instances of 'NoneType' and 'NoneType'",
     "output_type": "error",
     "traceback": [
      "\u001b[0;31m---------------------------------------------------------------------------\u001b[0m",
      "\u001b[0;31mTypeError\u001b[0m                                 Traceback (most recent call last)",
      "\u001b[1;32m/Users/brandon/Projects/school/cs460/P3_linear_time_sort.ipynb Cell 23'\u001b[0m in \u001b[0;36m<module>\u001b[0;34m\u001b[0m\n\u001b[1;32m      <a href='vscode-notebook-cell:/Users/brandon/Projects/school/cs460/P3_linear_time_sort.ipynb#ch0000022?line=0'>1</a>\u001b[0m \u001b[39m# Do NOT change the test code here.\u001b[39;00m\n\u001b[1;32m      <a href='vscode-notebook-cell:/Users/brandon/Projects/school/cs460/P3_linear_time_sort.ipynb#ch0000022?line=1'>2</a>\u001b[0m arr \u001b[39m=\u001b[39m [\u001b[39m0\u001b[39m, \u001b[39m5\u001b[39m, \u001b[39m3\u001b[39m, \u001b[39m2\u001b[39m, \u001b[39m2\u001b[39m]\n\u001b[0;32m----> <a href='vscode-notebook-cell:/Users/brandon/Projects/school/cs460/P3_linear_time_sort.ipynb#ch0000022?line=2'>3</a>\u001b[0m arr_sorted \u001b[39m=\u001b[39m radix_sort(arr)\n\u001b[1;32m      <a href='vscode-notebook-cell:/Users/brandon/Projects/school/cs460/P3_linear_time_sort.ipynb#ch0000022?line=3'>4</a>\u001b[0m \u001b[39mprint\u001b[39m(\u001b[39m'\u001b[39m\u001b[39marr sorted:\u001b[39m\u001b[39m'\u001b[39m, arr_sorted)\n\u001b[1;32m      <a href='vscode-notebook-cell:/Users/brandon/Projects/school/cs460/P3_linear_time_sort.ipynb#ch0000022?line=5'>6</a>\u001b[0m arr1 \u001b[39m=\u001b[39m [\u001b[39m329\u001b[39m, \u001b[39m457\u001b[39m, \u001b[39m657\u001b[39m, \u001b[39m839\u001b[39m, \u001b[39m436\u001b[39m, \u001b[39m720\u001b[39m, \u001b[39m355\u001b[39m]\n",
      "\u001b[1;32m/Users/brandon/Projects/school/cs460/P3_linear_time_sort.ipynb Cell 22'\u001b[0m in \u001b[0;36mradix_sort\u001b[0;34m(arr, print_at_iters)\u001b[0m\n\u001b[1;32m     <a href='vscode-notebook-cell:/Users/brandon/Projects/school/cs460/P3_linear_time_sort.ipynb#ch0000021?line=13'>14</a>\u001b[0m \u001b[39mif\u001b[39;00m iteration \u001b[39min\u001b[39;00m print_at_iters:\n\u001b[1;32m     <a href='vscode-notebook-cell:/Users/brandon/Projects/school/cs460/P3_linear_time_sort.ipynb#ch0000021?line=14'>15</a>\u001b[0m     \u001b[39mprint\u001b[39m(\u001b[39mf\u001b[39m\u001b[39m'\u001b[39m\u001b[39miteration \u001b[39m\u001b[39m{\u001b[39;00miteration\u001b[39m}\u001b[39;00m\u001b[39m: \u001b[39m\u001b[39m{\u001b[39;00msorted_arr\u001b[39m}\u001b[39;00m\u001b[39m'\u001b[39m)\n\u001b[0;32m---> <a href='vscode-notebook-cell:/Users/brandon/Projects/school/cs460/P3_linear_time_sort.ipynb#ch0000021?line=16'>17</a>\u001b[0m \u001b[39mwhile\u001b[39;00m digit_position \u001b[39m<\u001b[39;49m\u001b[39m=\u001b[39;49m max_num:\n\u001b[1;32m     <a href='vscode-notebook-cell:/Users/brandon/Projects/school/cs460/P3_linear_time_sort.ipynb#ch0000021?line=17'>18</a>\u001b[0m     \u001b[39m### START YOUR CODE ###\u001b[39;00m\n\u001b[1;32m     <a href='vscode-notebook-cell:/Users/brandon/Projects/school/cs460/P3_linear_time_sort.ipynb#ch0000021?line=18'>19</a>\u001b[0m     tmp_list \u001b[39m=\u001b[39m \u001b[39mNone\u001b[39;00m \u001b[39m# Hint: initialize to a list of 10 empty lists, because there are 10 possible digits\u001b[39;00m\n\u001b[1;32m     <a href='vscode-notebook-cell:/Users/brandon/Projects/school/cs460/P3_linear_time_sort.ipynb#ch0000021?line=19'>20</a>\u001b[0m     \u001b[39m### END YOUR CODE ###\u001b[39;00m\n\u001b[1;32m     <a href='vscode-notebook-cell:/Users/brandon/Projects/school/cs460/P3_linear_time_sort.ipynb#ch0000021?line=20'>21</a>\u001b[0m \n\u001b[1;32m     <a href='vscode-notebook-cell:/Users/brandon/Projects/school/cs460/P3_linear_time_sort.ipynb#ch0000021?line=21'>22</a>\u001b[0m     \u001b[39m### START YOUR CODE ###\u001b[39;00m\n",
      "\u001b[0;31mTypeError\u001b[0m: '<=' not supported between instances of 'NoneType' and 'NoneType'"
     ]
    }
   ],
   "source": [
    "# Do NOT change the test code here.\n",
    "arr = [0, 5, 3, 2, 2]\n",
    "arr_sorted = radix_sort(arr)\n",
    "print('arr sorted:', arr_sorted)\n",
    "\n",
    "arr1 = [329, 457, 657, 839, 436, 720, 355]\n",
    "print('arr1:', arr1)\n",
    "arr1_sorted = radix_sort(arr1, print_at_iters=[1,2])\n",
    "print('arr1 sorted:', arr1_sorted)"
   ]
  },
  {
   "cell_type": "markdown",
   "metadata": {
    "collapsed": false,
    "pycharm": {
     "name": "#%% md\n"
    }
   },
   "source": [
    "**Expected output**\n",
    "\n",
    "arr sorted: [0, 2, 2, 3, 5]\\\n",
    "arr1: [329, 457, 657, 839, 436, 720, 355]\\\n",
    "iteration 1: [720, 355, 436, 457, 657, 329, 839]\\\n",
    "iteration 2: [720, 329, 436, 839, 355, 457, 657]\\\n",
    "arr1 sorted: [329, 355, 436, 457, 657, 720, 839]"
   ]
  }
 ],
 "metadata": {
  "kernelspec": {
   "display_name": "Python 3.9.6 (ipykernel)",
   "language": "python",
   "name": "python3"
  },
  "language_info": {
   "codemirror_mode": {
    "name": "ipython",
    "version": 3
   },
   "file_extension": ".py",
   "mimetype": "text/x-python",
   "name": "python",
   "nbconvert_exporter": "python",
   "pygments_lexer": "ipython3",
   "version": "3.10.2"
  }
 },
 "nbformat": 4,
 "nbformat_minor": 5
}
